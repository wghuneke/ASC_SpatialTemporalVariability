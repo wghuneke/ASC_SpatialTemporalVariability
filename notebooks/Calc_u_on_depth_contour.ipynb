{
 "cells": [
  {
   "cell_type": "markdown",
   "metadata": {},
   "source": [
    "# Select velocity along circumpolar 1 km isobath\n",
    "\n",
    "This script:\n",
    "\n",
    "1. Calculates along-slope and cross-slope velocity.\n",
    "2. Selects the velocities on the 1 km isobath (on u grid). The isobath information is calculated in `Find_depth_contour_plt_approach.ipynb` and is loaded in here.\n",
    "3. Saves a 10 year climatology (or daily data) of the along-slope and cross-slope velocity to a post-processed file. It takes a long time to load in the data, this should help when playing around when plotting the data later. Select ncpus=48 to run the script when calculating the climatology or otherwise you run out of memory."
   ]
  },
  {
   "cell_type": "markdown",
   "metadata": {},
   "source": [
    "Load modules:"
   ]
  },
  {
   "cell_type": "code",
   "execution_count": 1,
   "metadata": {},
   "outputs": [],
   "source": [
    "%matplotlib inline\n",
    "# Standard modules\n",
    "import cosima_cookbook as cc\n",
    "import matplotlib.pyplot as plt\n",
    "import netCDF4 as nc\n",
    "import xarray as xr\n",
    "import numpy as np\n",
    "from dask.distributed import Client\n",
    "#from cosima_cookbook import distributed as ccd\n",
    "# Optional modules\n",
    "import xarray.ufuncs as xu\n",
    "import xgcm\n",
    "# Ignore warnings\n",
    "import logging\n",
    "logging.captureWarnings(True)\n",
    "logging.getLogger('py.warnings').setLevel(logging.ERROR)"
   ]
  },
  {
   "cell_type": "markdown",
   "metadata": {},
   "source": [
    "Start a cluster with multiple cores:"
   ]
  },
  {
   "cell_type": "code",
   "execution_count": 2,
   "metadata": {},
   "outputs": [
    {
     "data": {
      "text/html": [
       "<table style=\"border: 2px solid white;\">\n",
       "<tr>\n",
       "<td style=\"vertical-align: top; border: 0px solid white\">\n",
       "<h3 style=\"text-align: left;\">Client</h3>\n",
       "<ul style=\"text-align: left; list-style: none; margin: 0; padding: 0;\">\n",
       "  <li><b>Scheduler: </b>tcp://127.0.0.1:41251</li>\n",
       "  <li><b>Dashboard: </b><a href='/proxy/8787/status' target='_blank'>/proxy/8787/status</a></li>\n",
       "</ul>\n",
       "</td>\n",
       "<td style=\"vertical-align: top; border: 0px solid white\">\n",
       "<h3 style=\"text-align: left;\">Cluster</h3>\n",
       "<ul style=\"text-align: left; list-style:none; margin: 0; padding: 0;\">\n",
       "  <li><b>Workers: </b>8</li>\n",
       "  <li><b>Cores: </b>48</li>\n",
       "  <li><b>Memory: </b>202.48 GB</li>\n",
       "</ul>\n",
       "</td>\n",
       "</tr>\n",
       "</table>"
      ],
      "text/plain": [
       "<Client: 'tcp://127.0.0.1:41251' processes=8 threads=48, memory=202.48 GB>"
      ]
     },
     "execution_count": 2,
     "metadata": {},
     "output_type": "execute_result"
    }
   ],
   "source": [
    "client = Client(n_workers=8) # n_workers=4\n",
    "client"
   ]
  },
  {
   "cell_type": "markdown",
   "metadata": {},
   "source": [
    "Nominate a database from which to load the data and define an experiment:"
   ]
  },
  {
   "cell_type": "code",
   "execution_count": 3,
   "metadata": {},
   "outputs": [],
   "source": [
    "# Load database\n",
    "#session = cc.database.create_session('/g/data/ik11/databases/ryf9091.db')\n",
    "session = cc.database.create_session()\n",
    "# Define experiment in database\n",
    "expt = '01deg_jra55v13_ryf9091'"
   ]
  },
  {
   "cell_type": "markdown",
   "metadata": {},
   "source": [
    "### Topographic gradient"
   ]
  },
  {
   "cell_type": "code",
   "execution_count": 8,
   "metadata": {},
   "outputs": [],
   "source": [
    "lat_slice = slice(-80, -59)\n",
    "\n",
    "# Import bathymetry\n",
    "hu = cc.querying.getvar(expt, 'hu', session, n=1)\n",
    "\n",
    "# Import grid cell length\n",
    "dxu = cc.querying.getvar(expt, 'dxu', session, n=1)\n",
    "dyu = cc.querying.getvar(expt, 'dyu', session, n=1)\n",
    "\n",
    "# Change coordinate name\n",
    "dxu.coords['ni'] = hu['xu_ocean'].values\n",
    "dxu.coords['nj'] = hu['yu_ocean'].values\n",
    "dyu.coords['ni'] = hu['xu_ocean'].values\n",
    "dyu.coords['nj'] = hu['yu_ocean'].values\n",
    "dxu = dxu.rename(({'ni':'xu_ocean', 'nj':'yu_ocean'}))\n",
    "dyu = dyu.rename(({'ni':'xu_ocean', 'nj':'yu_ocean'}))\n",
    "\n",
    "# Select latitude range\n",
    "hu = hu.sel(yu_ocean=lat_slice)\n",
    "hu = hu.load()\n",
    "dxu = dxu.sel(yu_ocean=lat_slice)\n",
    "dxu = dxu.load()\n",
    "dyu = dyu.sel(yu_ocean=lat_slice)\n",
    "dyu = dyu.load()"
   ]
  },
  {
   "cell_type": "markdown",
   "metadata": {},
   "source": [
    "Calculate grad h using xgcm functions (following method 3 in `RelativeVorticity.ipynb` from [cosima recipes](https://github.com/COSIMA/cosima-recipes/blob/master/DocumentedExamples/RelativeVorticity.ipynb))"
   ]
  },
  {
   "cell_type": "code",
   "execution_count": 9,
   "metadata": {},
   "outputs": [],
   "source": [
    "# Load model grid information\n",
    "path_to_folder = '/g/data/ik11/outputs/access-om2-01/01deg_jra55v13_ryf9091/output000/ocean/'\n",
    "grid = xr.open_mfdataset(path_to_folder+'ocean_grid.nc', combine='by_coords')\n",
    "\n",
    "ds = xr.merge([hu, grid])\n",
    "ds.coords['xt_ocean'].attrs.update(axis='X')\n",
    "ds.coords['xu_ocean'].attrs.update(axis='X', c_grid_axis_shift=0.5)\n",
    "ds.coords['yt_ocean'].attrs.update(axis='Y')\n",
    "ds.coords['yu_ocean'].attrs.update(axis='Y', c_grid_axis_shift=0.5)\n",
    "\n",
    "grid = xgcm.Grid(ds, periodic=['X'])"
   ]
  },
  {
   "cell_type": "code",
   "execution_count": 10,
   "metadata": {},
   "outputs": [],
   "source": [
    "# Take gradient and move to u grid\n",
    "# Simple gradient over one grid cell. \n",
    "# In latitudinal direction, we need to specify what happens at the boundary.\n",
    "dhu_dx = grid.interp( grid.diff(ds.hu, 'X') / grid.interp(ds.dxu, 'X'), 'X')#, 'Y', boundary='extend')\n",
    "dhu_dy = grid.interp( grid.diff(ds.hu, 'Y', boundary='extend') / grid.interp(ds.dyt, 'X'), 'Y', boundary='extend')# 'X')\n",
    "\n",
    "# Same as: (other option)\n",
    "#dhu_dx = grid.interp(grid.diff(ds.hu, 'X'), 'X') / ds.dxu\n",
    "#dhu_dy = grid.interp(grid.diff(ds.hu, 'Y', boundary='extend'), 'Y', boundary='extend') / ds.dyu\n",
    "\n",
    "# Select latitude slice\n",
    "dhu_dx = dhu_dx.sel(yu_ocean=lat_slice)\n",
    "dhu_dy = dhu_dy.sel(yu_ocean=lat_slice)"
   ]
  },
  {
   "cell_type": "code",
   "execution_count": 11,
   "metadata": {},
   "outputs": [],
   "source": [
    "# Calculate the magnitude of the topographic slope\n",
    "slope = xu.sqrt(dhu_dx**2 + dhu_dy**2)"
   ]
  },
  {
   "cell_type": "markdown",
   "metadata": {},
   "source": [
    "### Along-slope and cross-slope velocity  "
   ]
  },
  {
   "cell_type": "code",
   "execution_count": 12,
   "metadata": {},
   "outputs": [],
   "source": [
    "# Load velocity data\n",
    "start_time = '2080-01-01'\n",
    "end_time   = '2089-12-31' \n",
    "\n",
    "u = cc.querying.getvar(expt, 'u', session, start_time=start_time, end_time=end_time, ncfile=\"ocean.nc\")\n",
    "u = u.sel(time=slice(start_time,end_time)).sel(yu_ocean=lat_slice)#.mean('time')\n",
    "v = cc.querying.getvar(expt, 'v', session, start_time=start_time, end_time=end_time, ncfile=\"ocean.nc\")\n",
    "v = v.sel(time=slice(start_time,end_time)).sel(yu_ocean=lat_slice)#.mean('time')"
   ]
  },
  {
   "cell_type": "markdown",
   "metadata": {},
   "source": [
    "Rotate velocity"
   ]
  },
  {
   "cell_type": "code",
   "execution_count": 13,
   "metadata": {},
   "outputs": [],
   "source": [
    "# Along-slope velocity\n",
    "u_along = u*dhu_dy/slope - v*dhu_dx/slope\n",
    "# Cross-slope velocity\n",
    "v_cross = u*dhu_dx/slope + v*dhu_dy/slope"
   ]
  },
  {
   "cell_type": "markdown",
   "metadata": {},
   "source": [
    "Monthly climatology"
   ]
  },
  {
   "cell_type": "code",
   "execution_count": 14,
   "metadata": {},
   "outputs": [],
   "source": [
    "u_along = u_along.groupby('time.month').mean('time')\n",
    "v_cross = v_cross.groupby('time.month').mean('time')"
   ]
  },
  {
   "cell_type": "markdown",
   "metadata": {},
   "source": [
    "Barotropic velocity"
   ]
  },
  {
   "cell_type": "code",
   "execution_count": 15,
   "metadata": {},
   "outputs": [],
   "source": [
    "# import edges of st_ocean and add lat/lon dimensions:\n",
    "st_edges_ocean = cc.querying.getvar(expt, 'st_edges_ocean', session, start_time=start_time, end_time=end_time, n=1)\n",
    "st_edges_array = st_edges_ocean.expand_dims({'yu_ocean':u.yu_ocean,'xu_ocean':u.xu_ocean}, axis=[1,2])\n",
    "\n",
    "# adjust edges at bottom for partial thickness:\n",
    "st_edges_with_partial = st_edges_array.where(st_edges_array<hu, other=hu)\n",
    "thickness = st_edges_with_partial.diff(dim='st_edges_ocean')\n",
    "\n",
    "# change coordinate of thickness to st_ocean (needed for multipling with other variables):\n",
    "st_ocean = cc.querying.getvar(expt, 'st_ocean', session, n=1)\n",
    "thickness['st_edges_ocean'] = st_ocean.values\n",
    "thickness = thickness.rename(({'st_edges_ocean':'st_ocean'}))\n",
    "thickness = thickness"
   ]
  },
  {
   "cell_type": "code",
   "execution_count": 16,
   "metadata": {},
   "outputs": [],
   "source": [
    "# Barotropic velocity\n",
    "u_btr = (u_along * thickness).sum('st_ocean') / thickness.sum('st_ocean')\n",
    "v_btr = (v_cross * thickness).sum('st_ocean') / thickness.sum('st_ocean')"
   ]
  },
  {
   "cell_type": "markdown",
   "metadata": {},
   "source": [
    "Load data"
   ]
  },
  {
   "cell_type": "code",
   "execution_count": 17,
   "metadata": {},
   "outputs": [
    {
     "name": "stderr",
     "output_type": "stream",
     "text": [
      "Task exception was never retrieved\n",
      "future: <Task finished coro=<connect.<locals>._() done, defined at /g/data3/hh5/public/apps/miniconda3/envs/analysis3-20.07/lib/python3.7/site-packages/distributed/comm/core.py:288> exception=CommClosedError()>\n",
      "Traceback (most recent call last):\n",
      "  File \"/g/data3/hh5/public/apps/miniconda3/envs/analysis3-20.07/lib/python3.7/site-packages/distributed/comm/core.py\", line 297, in _\n",
      "    handshake = await asyncio.wait_for(comm.read(), 1)\n",
      "  File \"/g/data3/hh5/public/apps/miniconda3/envs/analysis3-20.07/lib/python3.7/asyncio/tasks.py\", line 435, in wait_for\n",
      "    await waiter\n",
      "concurrent.futures._base.CancelledError\n",
      "\n",
      "The above exception was the direct cause of the following exception:\n",
      "\n",
      "Traceback (most recent call last):\n",
      "  File \"/g/data3/hh5/public/apps/miniconda3/envs/analysis3-20.07/lib/python3.7/site-packages/distributed/comm/core.py\", line 304, in _\n",
      "    raise CommClosedError() from e\n",
      "distributed.comm.core.CommClosedError\n"
     ]
    }
   ],
   "source": [
    "# Load the data (this is necessary for selecting the points along the contour, otherwise the code will run forever)\n",
    "u_along = u_along.load()\n",
    "u_btr   = u_btr.load()"
   ]
  },
  {
   "cell_type": "code",
   "execution_count": 18,
   "metadata": {},
   "outputs": [],
   "source": [
    "v_cross = v_cross.load()\n",
    "v_btr   = v_btr.load()"
   ]
  },
  {
   "cell_type": "markdown",
   "metadata": {},
   "source": [
    "### Load the isobath information\n",
    "\n",
    "These are previously calculated (`Find_depth_contour_plt_approach.ipynb`)"
   ]
  },
  {
   "cell_type": "code",
   "execution_count": 4,
   "metadata": {},
   "outputs": [],
   "source": [
    "isobath_depth = 1000"
   ]
  },
  {
   "cell_type": "code",
   "execution_count": 5,
   "metadata": {},
   "outputs": [],
   "source": [
    "# Load the isobath information\n",
    "file_path = '/g/data/x77/wgh581/Post_Process/Antarctic_slope_contour_u_t_' + str(isobath_depth) + 'm_plt_approach.npz'\n",
    "data = np.load(file_path)"
   ]
  },
  {
   "cell_type": "code",
   "execution_count": 6,
   "metadata": {},
   "outputs": [],
   "source": [
    "# We are interested in the u-grid:\n",
    "num_points = data['num_points_u']\n",
    "distance_along_contour = data['distance_along_contour_u']\n",
    "lon_along_contour = data['lon_along_contour_u']\n",
    "lat_along_contour = data['lat_along_contour_u']"
   ]
  },
  {
   "cell_type": "markdown",
   "metadata": {},
   "source": [
    "### Velocities along contour"
   ]
  },
  {
   "cell_type": "code",
   "execution_count": 19,
   "metadata": {},
   "outputs": [],
   "source": [
    "month = ['Jan', 'Feb', 'Mar', 'Apr', 'May', 'Jun', 'Jul', 'Aug', 'Sep', 'Oct', 'Nov', 'Dec']"
   ]
  },
  {
   "cell_type": "markdown",
   "metadata": {},
   "source": [
    "Along-slope component"
   ]
  },
  {
   "cell_type": "code",
   "execution_count": 20,
   "metadata": {},
   "outputs": [],
   "source": [
    "# Total velocity along contour\n",
    "u_along_contour = np.zeros((len(month), len(u_along.st_ocean), num_points))\n",
    "for ii in range(num_points):\n",
    "    u_along_contour[:,:,ii] = u_along.sel(xu_ocean=lon_along_contour[ii], method='nearest').sel(yu_ocean=lat_along_contour[ii], method='nearest')"
   ]
  },
  {
   "cell_type": "code",
   "execution_count": 21,
   "metadata": {},
   "outputs": [],
   "source": [
    "# Barotropic velocity along contour\n",
    "u_btr_contour = np.zeros((len(month),num_points))\n",
    "for ii in range(num_points):\n",
    "    u_btr_contour[:,ii] = u_btr.sel(xu_ocean=lon_along_contour[ii], method='nearest').sel(yu_ocean=lat_along_contour[ii], method='nearest')"
   ]
  },
  {
   "cell_type": "markdown",
   "metadata": {},
   "source": [
    "Cross-slope component"
   ]
  },
  {
   "cell_type": "code",
   "execution_count": 22,
   "metadata": {},
   "outputs": [],
   "source": [
    "# Total velocity along contour\n",
    "v_cross_contour = np.zeros((len(month), len(v_cross.st_ocean), num_points))\n",
    "for ii in range(num_points):\n",
    "    v_cross_contour[:,:,ii] = v_cross.sel(xu_ocean=lon_along_contour[ii], method='nearest').sel(yu_ocean=lat_along_contour[ii], method='nearest')"
   ]
  },
  {
   "cell_type": "code",
   "execution_count": 23,
   "metadata": {},
   "outputs": [],
   "source": [
    "# Barotropic velocity along contour\n",
    "v_btr_contour = np.zeros((len(month),num_points))\n",
    "for ii in range(num_points):\n",
    "    v_btr_contour[:,ii] = v_btr.sel(xu_ocean=lon_along_contour[ii], method='nearest').sel(yu_ocean=lat_along_contour[ii], method='nearest')"
   ]
  },
  {
   "cell_type": "markdown",
   "metadata": {},
   "source": [
    "Grid cell thickness"
   ]
  },
  {
   "cell_type": "code",
   "execution_count": 24,
   "metadata": {},
   "outputs": [],
   "source": [
    "thickness_contour = np.zeros((len(thickness.st_ocean), num_points))\n",
    "for ii in range(num_points):\n",
    "    thickness_contour[:,ii] = thickness.sel(xu_ocean=lon_along_contour[ii], method='nearest').sel(yu_ocean=lat_along_contour[ii], method='nearest')"
   ]
  },
  {
   "cell_type": "markdown",
   "metadata": {},
   "source": [
    "### Saving\n",
    "\n",
    "Save the data as *.npz data construct."
   ]
  },
  {
   "cell_type": "code",
   "execution_count": 28,
   "metadata": {},
   "outputs": [],
   "source": [
    "import os\n",
    "save_dir  = '/g/data/x77/wgh581/Post_Process/'\n",
    "file_name = 'Antarctic_slope_contour_1km_velocities_plt_approach'\n",
    "outfile   = os.path.join(save_dir, file_name+'.npz')\n",
    "\n",
    "np.savez(outfile, u_along_contour=u_along_contour, v_cross_contour=v_cross_contour, \\\n",
    "         u_btr_contour=u_btr_contour, v_btr_contour=v_btr_contour, \\\n",
    "         lat_along_contour=lat_along_contour, lon_along_contour=lon_along_contour, \\\n",
    "         num_points=num_points, distance_along_contour=distance_along_contour, \\\n",
    "         st_ocean=u_along.st_ocean, thickness_contour=thickness_contour)\n"
   ]
  },
  {
   "cell_type": "markdown",
   "metadata": {},
   "source": [
    "---\n",
    "Test if saving the data worked:"
   ]
  },
  {
   "cell_type": "code",
   "execution_count": 18,
   "metadata": {},
   "outputs": [
    {
     "data": {
      "text/plain": [
       "['u_along_contour',\n",
       " 'v_cross_contour',\n",
       " 'u_btr_contour',\n",
       " 'v_btr_contour',\n",
       " 'lat_along_contour',\n",
       " 'lon_along_contour',\n",
       " 'num_points',\n",
       " 'distance_along_contour',\n",
       " 'st_ocean',\n",
       " 'thickness_contour']"
      ]
     },
     "execution_count": 18,
     "metadata": {},
     "output_type": "execute_result"
    }
   ],
   "source": [
    "testfile = save_dir+file_name+'.npz'\n",
    "data = np.load(testfile)\n",
    "data.files"
   ]
  },
  {
   "cell_type": "code",
   "execution_count": 40,
   "metadata": {},
   "outputs": [
    {
     "data": {
      "text/plain": [
       "(12, 5936)"
      ]
     },
     "execution_count": 40,
     "metadata": {},
     "output_type": "execute_result"
    }
   ],
   "source": [
    "test = data['u_btr_contour']\n",
    "np.shape(test)"
   ]
  },
  {
   "cell_type": "code",
   "execution_count": 33,
   "metadata": {},
   "outputs": [
    {
     "data": {
      "image/png": "[encoded data removed]",
      "text/plain": [
       "<Figure size 432x288 with 2 Axes>"
      ]
     },
     "metadata": {
      "needs_background": "light"
     },
     "output_type": "display_data"
    }
   ],
   "source": [
    "fig = plt.figure()\n",
    "plt.pcolormesh(u_along_contour.mean(axis=0), cmap='seismic', vmin=-0.3, vmax=0.3)\n",
    "plt.colorbar();"
   ]
  },
  {
   "cell_type": "code",
   "execution_count": 34,
   "metadata": {},
   "outputs": [
    {
     "data": {
      "text/plain": [
       "(12, 75, 4487)"
      ]
     },
     "execution_count": 34,
     "metadata": {},
     "output_type": "execute_result"
    }
   ],
   "source": [
    "np.shape(u_along_contour)"
   ]
  },
  {
   "cell_type": "code",
   "execution_count": 27,
   "metadata": {},
   "outputs": [
    {
     "data": {
      "text/plain": [
       "<matplotlib.collections.PathCollection at 0x145f70b59fd0>"
      ]
     },
     "execution_count": 27,
     "metadata": {},
     "output_type": "execute_result"
    },
    {
     "data": {
      "image/png": "[encoded data removed]",
      "text/plain": [
       "<Figure size 432x288 with 1 Axes>"
      ]
     },
     "metadata": {
      "needs_background": "light"
     },
     "output_type": "display_data"
    }
   ],
   "source": [
    "fig = plt.figure()\n",
    "plt.scatter(lon_along_contour, lat_along_contour)"
   ]
  },
  {
   "cell_type": "code",
   "execution_count": null,
   "metadata": {},
   "outputs": [],
   "source": []
  }
 ],
 "metadata": {
  "kernelspec": {
   "display_name": "Python [conda env:analysis3-21.07]",
   "language": "python",
   "name": "conda-env-analysis3-21.07-py"
  },
  "language_info": {
   "codemirror_mode": {
    "name": "ipython",
    "version": 3
   },
   "file_extension": ".py",
   "mimetype": "text/x-python",
   "name": "python",
   "nbconvert_exporter": "python",
   "pygments_lexer": "ipython3",
   "version": "3.9.7"
  }
 },
 "nbformat": 4,
 "nbformat_minor": 4
}
